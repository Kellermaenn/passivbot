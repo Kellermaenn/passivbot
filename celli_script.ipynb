{
  "nbformat": 4,
  "nbformat_minor": 0,
  "metadata": {
    "colab": {
      "name": "binance.ipynb",
      "provenance": [],
      "collapsed_sections": []
    },
    "kernelspec": {
      "name": "python3",
      "display_name": "Python 3"
    },
    "language_info": {
      "name": "python"
    }
  },
  "cells": [
    {
      "cell_type": "markdown",
      "source": [
        "# Install python binance api"
      ],
      "metadata": {
        "id": "O_MWzET-Yqeb"
      }
    },
    {
      "cell_type": "code",
      "source": [
        "!pip install python-binance -q"
      ],
      "metadata": {
        "id": "e1bBqFZlKgE1"
      },
      "execution_count": 4,
      "outputs": []
    },
    {
      "cell_type": "markdown",
      "source": [
        "#Import required libraries"
      ],
      "metadata": {
        "id": "Cy0NjcmdY_JJ"
      }
    },
    {
      "cell_type": "code",
      "execution_count": 40,
      "metadata": {
        "id": "5u_FkLPOKTEw"
      },
      "outputs": [],
      "source": [
        "from binance.client import Client\n",
        "import pandas as pd"
      ]
    },
    {
      "cell_type": "markdown",
      "source": [
        "# Grab information"
      ],
      "metadata": {
        "id": "C6cBaUIwoFsg"
      }
    },
    {
      "cell_type": "code",
      "source": [
        "# We don't need any specific api key and password to get long short ratio data\n",
        "api_key = ''\n",
        "api_secret = ''\n",
        "\n",
        "# Connect to the api\n",
        "client = Client(api_key, api_secret)"
      ],
      "metadata": {
        "id": "q4WJDdQUKxZn"
      },
      "execution_count": 41,
      "outputs": []
    },
    {
      "cell_type": "code",
      "source": [
        "# Grab exchange info to get all future pairs\n",
        "exchange_info = client.futures_exchange_info()\n",
        "pairs = pd.DataFrame.from_dict(exchange_info['symbols'])['pair']\n",
        "\n",
        "ls_ratio = []\n",
        "spreads = []\n",
        "funding = []\n",
        "# Get average long short ratio during a period of time\n",
        "period = '5m'\n",
        "# Get n last periods\n",
        "nLastPeriods = 1\n",
        "for pair in pairs:\n",
        "  funding.append(float(client.futures_funding_rate(symbol=pair, limit=nLastPeriods)[0]['fundingRate']))\n",
        "  ls_ratio.append(float(client.futures_global_longshort_ratio(symbol=pair, period=period, limit=nLastPeriods)[0]['longShortRatio']))\n",
        "  try:\n",
        "     spreads.append(float(client.futures_symbol_ticker(symbol=pair)['price']) - float(client.get_symbol_ticker(symbol=pair)['price']))\n",
        "  except: \n",
        "    spreads.append(float(\"nan\"))"
      ],
      "metadata": {
        "id": "SUpYZBwqaULH"
      },
      "execution_count": 54,
      "outputs": []
    },
    {
      "cell_type": "code",
      "source": [
        "# Aggregate data\n",
        "table = pd.DataFrame.from_dict(exchange_info['symbols'])[['pair']]\n",
        "table['global long short ratio'] = ls_ratio\n",
        "table['spreads'] = spreads\n",
        "table['funding'] = funding"
      ],
      "metadata": {
        "id": "VhmN76pIV9tB"
      },
      "execution_count": 55,
      "outputs": []
    },
    {
      "cell_type": "markdown",
      "source": [
        "# Export data"
      ],
      "metadata": {
        "id": "Ic1uU_2AoN-V"
      }
    },
    {
      "cell_type": "code",
      "source": [
        "# Sort values by ascending order\n",
        "table = table.sort_values(by=['global long short ratio'])\n",
        "\n",
        "# Write down values\n",
        "table.to_excel('lsratio.xlsx')\n",
        "table.to_html('lsratio.html', classes='table table-striped')\n",
        "\n",
        "# You can retrieve the html and xlsx files in the files tab (folder icon on the left panel)"
      ],
      "metadata": {
        "id": "grkE-zlYWYXB"
      },
      "execution_count": 56,
      "outputs": []
    }
  ]
}