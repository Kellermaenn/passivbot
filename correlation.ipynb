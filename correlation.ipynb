{
 "cells": [
  {
   "cell_type": "code",
   "execution_count": 1,
   "metadata": {
    "tags": []
   },
   "outputs": [],
   "source": [
    "%load_ext autoreload\n",
    "%autoreload 2"
   ]
  },
  {
   "cell_type": "code",
   "execution_count": 2,
   "metadata": {},
   "outputs": [
    {
     "name": "stdout",
     "output_type": "stream",
     "text": [
      "using numba\n"
     ]
    }
   ],
   "source": [
    "from procedures import create_binance_bot, create_binance_bot_spot, make_get_filepath\n",
    "from pure_funcs import get_template_live_config, ts_to_date, get_daily_from_income\n",
    "from njit_funcs import round_dynamic\n",
    "from time import time, sleep\n",
    "import os\n",
    "import pandas as pd\n",
    "import numpy as np\n",
    "import matplotlib.pyplot as plt"
   ]
  },
  {
   "cell_type": "code",
   "execution_count": 3,
   "metadata": {},
   "outputs": [],
   "source": [
    "plt.rcParams[\"figure.figsize\"] = [21, 13]\n",
    "pd.set_option(\"display.precision\", 10)"
   ]
  },
  {
   "cell_type": "code",
   "execution_count": 4,
   "metadata": {},
   "outputs": [
    {
     "name": "stdout",
     "output_type": "stream",
     "text": [
      "not using numba\n",
      "linear perpetual\n",
      "error fetching fills string indices must be integers\n"
     ]
    },
    {
     "name": "stderr",
     "output_type": "stream",
     "text": [
      "Traceback (most recent call last):\n",
      "  File \"/Users/figge/code/pb/binance.py\", line 377, in fetch_fills\n",
      "    fills = [\n",
      "  File \"/Users/figge/code/pb/binance.py\", line 379, in <listcomp>\n",
      "    \"symbol\": x[\"symbol\"],\n",
      "TypeError: string indices must be integers\n",
      "ERROR:root:error with update position 0\n",
      "Traceback (most recent call last):\n",
      "  File \"/Users/figge/code/pb/passivbot.py\", line 262, in update_position\n",
      "    position = await self.fetch_position()\n",
      "  File \"/Users/figge/code/pb/binance.py\", line 267, in fetch_position\n",
      "    assert all(\n",
      "  File \"/Users/figge/code/pb/binance.py\", line 268, in <genexpr>\n",
      "    key in positions[0] for key in [\"symbol\", \"positionAmt\", \"entryPrice\"]\n",
      "KeyError: 0\n"
     ]
    }
   ],
   "source": [
    "config = get_template_live_config()\n",
    "config[\"symbol\"] = \"XMRUSDT\"  # dummy symbol\n",
    "config[\"exchange\"] = \"binance\"\n",
    "config[\"market_type\"] = \"futures\"\n",
    "config[\"user\"] = \"binance_01\"\n",
    "try:\n",
    "    await bot.session.close()\n",
    "except:\n",
    "    pass\n",
    "if config[\"market_type\"] == \"spot\":\n",
    "    bot = await create_binance_bot_spot(config)\n",
    "else:\n",
    "    bot = await create_binance_bot(config)"
   ]
  },
  {
   "cell_type": "code",
   "execution_count": 5,
   "metadata": {},
   "outputs": [
    {
     "name": "stdout",
     "output_type": "stream",
     "text": [
      "loading cache\n"
     ]
    },
    {
     "ename": "KeyError",
     "evalue": "'BTCUSDT'",
     "output_type": "error",
     "traceback": [
      "\u001b[0;31m---------------------------------------------------------------------------\u001b[0m",
      "\u001b[0;31mKeyError\u001b[0m                                  Traceback (most recent call last)",
      "Input \u001b[0;32mIn [5]\u001b[0m, in \u001b[0;36m<cell line: 28>\u001b[0;34m()\u001b[0m\n\u001b[1;32m     25\u001b[0m         csvs[s] \u001b[38;5;241m=\u001b[39m pd\u001b[38;5;241m.\u001b[39mDataFrame(data[s])\n\u001b[1;32m     26\u001b[0m         csvs[s]\u001b[38;5;241m.\u001b[39mto_csv(\u001b[38;5;124mf\u001b[39m\u001b[38;5;124m\"\u001b[39m\u001b[38;5;132;01m{\u001b[39;00mfpath\u001b[38;5;132;01m}\u001b[39;00m\u001b[38;5;132;01m{\u001b[39;00ms\u001b[38;5;132;01m}\u001b[39;00m\u001b[38;5;124m.csv\u001b[39m\u001b[38;5;124m\"\u001b[39m)\n\u001b[1;32m     27\u001b[0m n_days \u001b[38;5;241m=\u001b[39m (\n\u001b[0;32m---> 28\u001b[0m     (\u001b[43mcsvs\u001b[49m\u001b[43m[\u001b[49m\u001b[43msymbols\u001b[49m\u001b[43m[\u001b[49m\u001b[38;5;241;43m0\u001b[39;49m\u001b[43m]\u001b[49m\u001b[43m]\u001b[49m\u001b[38;5;241m.\u001b[39mtimestamp\u001b[38;5;241m.\u001b[39miloc[\u001b[38;5;241m-\u001b[39m\u001b[38;5;241m1\u001b[39m] \u001b[38;5;241m-\u001b[39m csvs[symbols[\u001b[38;5;241m0\u001b[39m]]\u001b[38;5;241m.\u001b[39mtimestamp\u001b[38;5;241m.\u001b[39miloc[\u001b[38;5;241m0\u001b[39m]) \u001b[38;5;241m/\u001b[39m \u001b[38;5;241m1000\u001b[39m \u001b[38;5;241m/\u001b[39m \u001b[38;5;241m60\u001b[39m \u001b[38;5;241m/\u001b[39m \u001b[38;5;241m60\u001b[39m \u001b[38;5;241m/\u001b[39m \u001b[38;5;241m24\u001b[39m\n\u001b[1;32m     29\u001b[0m )\n\u001b[1;32m     30\u001b[0m \u001b[38;5;28mprint\u001b[39m(\u001b[38;5;124m\"\u001b[39m\u001b[38;5;124mn days\u001b[39m\u001b[38;5;124m\"\u001b[39m, n_days)\n",
      "\u001b[0;31mKeyError\u001b[0m: 'BTCUSDT'"
     ]
    }
   ],
   "source": [
    "info = await bot.public_get(bot.endpoints[\"exchange_info\"])\n",
    "symbols = [e[\"symbol\"] for e in info[\"symbols\"] if e[\"symbol\"].endswith(\"USDT\")]\n",
    "\n",
    "interval = \"5m\"\n",
    "\n",
    "fpath = f\"logs/binance/ohlcvs_{interval}/\"\n",
    "if os.path.exists(fpath):\n",
    "    print(\"loading cache\")\n",
    "    csvs = {}\n",
    "    for f in [x for x in os.listdir(fpath) if x.endswith(\".csv\")]:\n",
    "        csvs[f[:-4]] = pd.read_csv(fpath + f)\n",
    "else:\n",
    "    fpath = make_get_filepath(f\"logs/binance/ohlcvs_{interval}/\")\n",
    "\n",
    "    data = {}\n",
    "    for s in sorted(symbols):\n",
    "        print(s, end=\" \")\n",
    "        ohlcvs = await bot.fetch_ohlcvs(symbol=s, interval=interval)\n",
    "        data[s] = ohlcvs\n",
    "        sleep(0.5)\n",
    "    # cache as csv for later use\n",
    "    csvs = {}\n",
    "    fpath = make_get_filepath(f\"logs/binance/ohlcvs_{interval}/\")\n",
    "    for s in data:\n",
    "        csvs[s] = pd.DataFrame(data[s])\n",
    "        csvs[s].to_csv(f\"{fpath}{s}.csv\")\n",
    "n_days = (\n",
    "    (csvs[symbols[0]].timestamp.iloc[-1] - csvs[symbols[0]].timestamp.iloc[0]) / 1000 / 60 / 60 / 24\n",
    ")\n",
    "print(\"n days\", n_days)"
   ]
  },
  {
   "cell_type": "code",
   "execution_count": 6,
   "metadata": {},
   "outputs": [],
   "source": [
    "def correlation(x, y):\n",
    "    x_mean = x.mean()\n",
    "    y_mean = y.mean()\n",
    "    a = x - x_mean\n",
    "    b = y - y_mean\n",
    "    return ((a * b).sum()) / (((a ** 2).sum() * (b ** 2).sum()) ** 0.5)"
   ]
  },
  {
   "cell_type": "code",
   "execution_count": 7,
   "metadata": {},
   "outputs": [
    {
     "ename": "IndexError",
     "evalue": "list index out of range",
     "output_type": "error",
     "traceback": [
      "\u001b[0;31m---------------------------------------------------------------------------\u001b[0m",
      "\u001b[0;31mIndexError\u001b[0m                                Traceback (most recent call last)",
      "Input \u001b[0;32mIn [7]\u001b[0m, in \u001b[0;36m<cell line: 3>\u001b[0;34m()\u001b[0m\n\u001b[1;32m      1\u001b[0m n_symbols \u001b[38;5;241m=\u001b[39m \u001b[38;5;241m30\u001b[39m\n\u001b[1;32m      2\u001b[0m vols \u001b[38;5;241m=\u001b[39m [(csvs[s]\u001b[38;5;241m.\u001b[39mvolume \u001b[38;5;241m*\u001b[39m csvs[s]\u001b[38;5;241m.\u001b[39mclose)\u001b[38;5;241m.\u001b[39msum() \u001b[38;5;28;01mfor\u001b[39;00m s \u001b[38;5;129;01min\u001b[39;00m csvs]\n\u001b[0;32m----> 3\u001b[0m minvol \u001b[38;5;241m=\u001b[39m \u001b[38;5;28;43msorted\u001b[39;49m\u001b[43m(\u001b[49m\u001b[43mvols\u001b[49m\u001b[43m)\u001b[49m\u001b[43m[\u001b[49m\u001b[38;5;241;43m-\u001b[39;49m\u001b[43mn_symbols\u001b[49m\u001b[43m]\u001b[49m\n\u001b[1;32m      4\u001b[0m ss \u001b[38;5;241m=\u001b[39m [s \u001b[38;5;28;01mfor\u001b[39;00m s \u001b[38;5;129;01min\u001b[39;00m csvs \u001b[38;5;28;01mif\u001b[39;00m (csvs[s]\u001b[38;5;241m.\u001b[39mvolume \u001b[38;5;241m*\u001b[39m csvs[s]\u001b[38;5;241m.\u001b[39mclose)\u001b[38;5;241m.\u001b[39msum() \u001b[38;5;241m>\u001b[39m\u001b[38;5;241m=\u001b[39m minvol]\n\u001b[1;32m      5\u001b[0m corrs \u001b[38;5;241m=\u001b[39m []\n",
      "\u001b[0;31mIndexError\u001b[0m: list index out of range"
     ]
    }
   ],
   "source": [
    "n_symbols = 30\n",
    "vols = [(csvs[s].volume * csvs[s].close).sum() for s in csvs]\n",
    "minvol = sorted(vols)[-n_symbols]\n",
    "ss = [s for s in csvs if (csvs[s].volume * csvs[s].close).sum() >= minvol]\n",
    "corrs = []\n",
    "corrs_dict = {}\n",
    "done = set()\n",
    "for s0 in sorted(ss):\n",
    "    for s1 in sorted(ss):\n",
    "        if s0 == s1:\n",
    "            continue\n",
    "        key = tuple(sorted([s0, s1]))\n",
    "        if key in done:\n",
    "            continue\n",
    "        done.add(key)\n",
    "        x = csvs[s0].close\n",
    "        y = csvs[s1].close\n",
    "        corr = correlation(x, y)\n",
    "        print(f\"\\r{s0} {s1} {corr:.4f}      \", end=\" \")\n",
    "        corrs.append((corr,) + key)\n",
    "\n",
    "corrs_dict = {}\n",
    "corrs_dict_abs = {}\n",
    "for e in corrs:\n",
    "    if e[1] not in corrs_dict:\n",
    "        corrs_dict[e[1]] = {e[2]: e[0]}\n",
    "        corrs_dict_abs[e[1]] = {e[2]: abs(e[0])}\n",
    "\n",
    "    else:\n",
    "        corrs_dict[e[1]][e[2]] = e[0]\n",
    "        corrs_dict_abs[e[1]][e[2]] = abs(e[0])\n",
    "\n",
    "    if e[2] not in corrs_dict:\n",
    "        corrs_dict[e[2]] = {e[1]: e[0]}\n",
    "        corrs_dict_abs[e[2]] = {e[1]: abs(e[0])}\n",
    "\n",
    "    else:\n",
    "        corrs_dict[e[2]][e[1]] = e[0]\n",
    "        corrs_dict_abs[e[2]][e[1]] = abs(e[0])"
   ]
  },
  {
   "cell_type": "code",
   "execution_count": 8,
   "metadata": {},
   "outputs": [
    {
     "ename": "NameError",
     "evalue": "name 'corrs_dict' is not defined",
     "output_type": "error",
     "traceback": [
      "\u001b[0;31m---------------------------------------------------------------------------\u001b[0m",
      "\u001b[0;31mNameError\u001b[0m                                 Traceback (most recent call last)",
      "Input \u001b[0;32mIn [8]\u001b[0m, in \u001b[0;36m<cell line: 2>\u001b[0;34m()\u001b[0m\n\u001b[1;32m      1\u001b[0m \u001b[38;5;66;03m# sum correlation of each symbol to every other symbol\u001b[39;00m\n\u001b[0;32m----> 2\u001b[0m \u001b[38;5;28msorted\u001b[39m([(\u001b[38;5;28msum\u001b[39m(corrs_dict[s]\u001b[38;5;241m.\u001b[39mvalues()), s) \u001b[38;5;28;01mfor\u001b[39;00m s \u001b[38;5;129;01min\u001b[39;00m \u001b[43mcorrs_dict\u001b[49m])\n",
      "\u001b[0;31mNameError\u001b[0m: name 'corrs_dict' is not defined"
     ]
    }
   ],
   "source": [
    "# sum correlation of each symbol to every other symbol\n",
    "sorted([(sum(corrs_dict[s].values()), s) for s in corrs_dict])"
   ]
  },
  {
   "cell_type": "code",
   "execution_count": 9,
   "metadata": {},
   "outputs": [
    {
     "ename": "NameError",
     "evalue": "name 'corrs_dict' is not defined",
     "output_type": "error",
     "traceback": [
      "\u001b[0;31m---------------------------------------------------------------------------\u001b[0m",
      "\u001b[0;31mNameError\u001b[0m                                 Traceback (most recent call last)",
      "Input \u001b[0;32mIn [9]\u001b[0m, in \u001b[0;36m<cell line: 2>\u001b[0;34m()\u001b[0m\n\u001b[1;32m      1\u001b[0m \u001b[38;5;66;03m# sum abs correlation of each symbol to every other symbol\u001b[39;00m\n\u001b[0;32m----> 2\u001b[0m \u001b[38;5;28msorted\u001b[39m([(\u001b[38;5;28msum\u001b[39m(corrs_dict_abs[s]\u001b[38;5;241m.\u001b[39mvalues()), s) \u001b[38;5;28;01mfor\u001b[39;00m s \u001b[38;5;129;01min\u001b[39;00m \u001b[43mcorrs_dict\u001b[49m])\n",
      "\u001b[0;31mNameError\u001b[0m: name 'corrs_dict' is not defined"
     ]
    }
   ],
   "source": [
    "# sum abs correlation of each symbol to every other symbol\n",
    "sorted([(sum(corrs_dict_abs[s].values()), s) for s in corrs_dict])"
   ]
  },
  {
   "cell_type": "code",
   "execution_count": 10,
   "metadata": {},
   "outputs": [
    {
     "ename": "ValueError",
     "evalue": "No objects to concatenate",
     "output_type": "error",
     "traceback": [
      "\u001b[0;31m---------------------------------------------------------------------------\u001b[0m",
      "\u001b[0;31mValueError\u001b[0m                                Traceback (most recent call last)",
      "Input \u001b[0;32mIn [10]\u001b[0m, in \u001b[0;36m<cell line: 2>\u001b[0;34m()\u001b[0m\n\u001b[1;32m      1\u001b[0m \u001b[38;5;66;03m# mean of all symbol\u001b[39;00m\n\u001b[0;32m----> 2\u001b[0m mean_prices \u001b[38;5;241m=\u001b[39m \u001b[43mpd\u001b[49m\u001b[38;5;241;43m.\u001b[39;49m\u001b[43mconcat\u001b[49m\u001b[43m(\u001b[49m\u001b[43m[\u001b[49m\u001b[43me\u001b[49m\u001b[38;5;241;43m.\u001b[39;49m\u001b[43mclose\u001b[49m\u001b[43m \u001b[49m\u001b[38;5;241;43m/\u001b[39;49m\u001b[43m \u001b[49m\u001b[43me\u001b[49m\u001b[38;5;241;43m.\u001b[39;49m\u001b[43mclose\u001b[49m\u001b[38;5;241;43m.\u001b[39;49m\u001b[43miloc\u001b[49m\u001b[43m[\u001b[49m\u001b[38;5;241;43m0\u001b[39;49m\u001b[43m]\u001b[49m\u001b[43m \u001b[49m\u001b[38;5;28;43;01mfor\u001b[39;49;00m\u001b[43m \u001b[49m\u001b[43me\u001b[49m\u001b[43m \u001b[49m\u001b[38;5;129;43;01min\u001b[39;49;00m\u001b[43m \u001b[49m\u001b[43mcsvs\u001b[49m\u001b[38;5;241;43m.\u001b[39;49m\u001b[43mvalues\u001b[49m\u001b[43m(\u001b[49m\u001b[43m)\u001b[49m\u001b[43m]\u001b[49m\u001b[43m,\u001b[49m\u001b[43m \u001b[49m\u001b[43maxis\u001b[49m\u001b[38;5;241;43m=\u001b[39;49m\u001b[38;5;241;43m1\u001b[39;49m\u001b[43m)\u001b[49m\u001b[38;5;241m.\u001b[39mmean(axis\u001b[38;5;241m=\u001b[39m\u001b[38;5;241m1\u001b[39m)\n\u001b[1;32m      4\u001b[0m \u001b[38;5;66;03m# compare individual symbol to mean\u001b[39;00m\n\u001b[1;32m      5\u001b[0m symbol \u001b[38;5;241m=\u001b[39m \u001b[38;5;124m\"\u001b[39m\u001b[38;5;124mSOLUSDT\u001b[39m\u001b[38;5;124m\"\u001b[39m\n",
      "File \u001b[0;32m~/miniconda3/envs/pb/lib/python3.10/site-packages/pandas/util/_decorators.py:311\u001b[0m, in \u001b[0;36mdeprecate_nonkeyword_arguments.<locals>.decorate.<locals>.wrapper\u001b[0;34m(*args, **kwargs)\u001b[0m\n\u001b[1;32m    305\u001b[0m \u001b[38;5;28;01mif\u001b[39;00m \u001b[38;5;28mlen\u001b[39m(args) \u001b[38;5;241m>\u001b[39m num_allow_args:\n\u001b[1;32m    306\u001b[0m     warnings\u001b[38;5;241m.\u001b[39mwarn(\n\u001b[1;32m    307\u001b[0m         msg\u001b[38;5;241m.\u001b[39mformat(arguments\u001b[38;5;241m=\u001b[39marguments),\n\u001b[1;32m    308\u001b[0m         \u001b[38;5;167;01mFutureWarning\u001b[39;00m,\n\u001b[1;32m    309\u001b[0m         stacklevel\u001b[38;5;241m=\u001b[39mstacklevel,\n\u001b[1;32m    310\u001b[0m     )\n\u001b[0;32m--> 311\u001b[0m \u001b[38;5;28;01mreturn\u001b[39;00m \u001b[43mfunc\u001b[49m\u001b[43m(\u001b[49m\u001b[38;5;241;43m*\u001b[39;49m\u001b[43margs\u001b[49m\u001b[43m,\u001b[49m\u001b[43m \u001b[49m\u001b[38;5;241;43m*\u001b[39;49m\u001b[38;5;241;43m*\u001b[39;49m\u001b[43mkwargs\u001b[49m\u001b[43m)\u001b[49m\n",
      "File \u001b[0;32m~/miniconda3/envs/pb/lib/python3.10/site-packages/pandas/core/reshape/concat.py:346\u001b[0m, in \u001b[0;36mconcat\u001b[0;34m(objs, axis, join, ignore_index, keys, levels, names, verify_integrity, sort, copy)\u001b[0m\n\u001b[1;32m    142\u001b[0m \u001b[38;5;129m@deprecate_nonkeyword_arguments\u001b[39m(version\u001b[38;5;241m=\u001b[39m\u001b[38;5;28;01mNone\u001b[39;00m, allowed_args\u001b[38;5;241m=\u001b[39m[\u001b[38;5;124m\"\u001b[39m\u001b[38;5;124mobjs\u001b[39m\u001b[38;5;124m\"\u001b[39m])\n\u001b[1;32m    143\u001b[0m \u001b[38;5;28;01mdef\u001b[39;00m \u001b[38;5;21mconcat\u001b[39m(\n\u001b[1;32m    144\u001b[0m     objs: Iterable[NDFrame] \u001b[38;5;241m|\u001b[39m Mapping[Hashable, NDFrame],\n\u001b[0;32m   (...)\u001b[0m\n\u001b[1;32m    153\u001b[0m     copy: \u001b[38;5;28mbool\u001b[39m \u001b[38;5;241m=\u001b[39m \u001b[38;5;28;01mTrue\u001b[39;00m,\n\u001b[1;32m    154\u001b[0m ) \u001b[38;5;241m-\u001b[39m\u001b[38;5;241m>\u001b[39m DataFrame \u001b[38;5;241m|\u001b[39m Series:\n\u001b[1;32m    155\u001b[0m     \u001b[38;5;124;03m\"\"\"\u001b[39;00m\n\u001b[1;32m    156\u001b[0m \u001b[38;5;124;03m    Concatenate pandas objects along a particular axis with optional set logic\u001b[39;00m\n\u001b[1;32m    157\u001b[0m \u001b[38;5;124;03m    along the other axes.\u001b[39;00m\n\u001b[0;32m   (...)\u001b[0m\n\u001b[1;32m    344\u001b[0m \u001b[38;5;124;03m    ValueError: Indexes have overlapping values: ['a']\u001b[39;00m\n\u001b[1;32m    345\u001b[0m \u001b[38;5;124;03m    \"\"\"\u001b[39;00m\n\u001b[0;32m--> 346\u001b[0m     op \u001b[38;5;241m=\u001b[39m \u001b[43m_Concatenator\u001b[49m\u001b[43m(\u001b[49m\n\u001b[1;32m    347\u001b[0m \u001b[43m        \u001b[49m\u001b[43mobjs\u001b[49m\u001b[43m,\u001b[49m\n\u001b[1;32m    348\u001b[0m \u001b[43m        \u001b[49m\u001b[43maxis\u001b[49m\u001b[38;5;241;43m=\u001b[39;49m\u001b[43maxis\u001b[49m\u001b[43m,\u001b[49m\n\u001b[1;32m    349\u001b[0m \u001b[43m        \u001b[49m\u001b[43mignore_index\u001b[49m\u001b[38;5;241;43m=\u001b[39;49m\u001b[43mignore_index\u001b[49m\u001b[43m,\u001b[49m\n\u001b[1;32m    350\u001b[0m \u001b[43m        \u001b[49m\u001b[43mjoin\u001b[49m\u001b[38;5;241;43m=\u001b[39;49m\u001b[43mjoin\u001b[49m\u001b[43m,\u001b[49m\n\u001b[1;32m    351\u001b[0m \u001b[43m        \u001b[49m\u001b[43mkeys\u001b[49m\u001b[38;5;241;43m=\u001b[39;49m\u001b[43mkeys\u001b[49m\u001b[43m,\u001b[49m\n\u001b[1;32m    352\u001b[0m \u001b[43m        \u001b[49m\u001b[43mlevels\u001b[49m\u001b[38;5;241;43m=\u001b[39;49m\u001b[43mlevels\u001b[49m\u001b[43m,\u001b[49m\n\u001b[1;32m    353\u001b[0m \u001b[43m        \u001b[49m\u001b[43mnames\u001b[49m\u001b[38;5;241;43m=\u001b[39;49m\u001b[43mnames\u001b[49m\u001b[43m,\u001b[49m\n\u001b[1;32m    354\u001b[0m \u001b[43m        \u001b[49m\u001b[43mverify_integrity\u001b[49m\u001b[38;5;241;43m=\u001b[39;49m\u001b[43mverify_integrity\u001b[49m\u001b[43m,\u001b[49m\n\u001b[1;32m    355\u001b[0m \u001b[43m        \u001b[49m\u001b[43mcopy\u001b[49m\u001b[38;5;241;43m=\u001b[39;49m\u001b[43mcopy\u001b[49m\u001b[43m,\u001b[49m\n\u001b[1;32m    356\u001b[0m \u001b[43m        \u001b[49m\u001b[43msort\u001b[49m\u001b[38;5;241;43m=\u001b[39;49m\u001b[43msort\u001b[49m\u001b[43m,\u001b[49m\n\u001b[1;32m    357\u001b[0m \u001b[43m    \u001b[49m\u001b[43m)\u001b[49m\n\u001b[1;32m    359\u001b[0m     \u001b[38;5;28;01mreturn\u001b[39;00m op\u001b[38;5;241m.\u001b[39mget_result()\n",
      "File \u001b[0;32m~/miniconda3/envs/pb/lib/python3.10/site-packages/pandas/core/reshape/concat.py:403\u001b[0m, in \u001b[0;36m_Concatenator.__init__\u001b[0;34m(self, objs, axis, join, keys, levels, names, ignore_index, verify_integrity, copy, sort)\u001b[0m\n\u001b[1;32m    400\u001b[0m     objs \u001b[38;5;241m=\u001b[39m \u001b[38;5;28mlist\u001b[39m(objs)\n\u001b[1;32m    402\u001b[0m \u001b[38;5;28;01mif\u001b[39;00m \u001b[38;5;28mlen\u001b[39m(objs) \u001b[38;5;241m==\u001b[39m \u001b[38;5;241m0\u001b[39m:\n\u001b[0;32m--> 403\u001b[0m     \u001b[38;5;28;01mraise\u001b[39;00m \u001b[38;5;167;01mValueError\u001b[39;00m(\u001b[38;5;124m\"\u001b[39m\u001b[38;5;124mNo objects to concatenate\u001b[39m\u001b[38;5;124m\"\u001b[39m)\n\u001b[1;32m    405\u001b[0m \u001b[38;5;28;01mif\u001b[39;00m keys \u001b[38;5;129;01mis\u001b[39;00m \u001b[38;5;28;01mNone\u001b[39;00m:\n\u001b[1;32m    406\u001b[0m     objs \u001b[38;5;241m=\u001b[39m \u001b[38;5;28mlist\u001b[39m(com\u001b[38;5;241m.\u001b[39mnot_none(\u001b[38;5;241m*\u001b[39mobjs))\n",
      "\u001b[0;31mValueError\u001b[0m: No objects to concatenate"
     ]
    }
   ],
   "source": [
    "# mean of all symbol\n",
    "mean_prices = pd.concat([e.close / e.close.iloc[0] for e in csvs.values()], axis=1).mean(axis=1)\n",
    "\n",
    "# compare individual symbol to mean\n",
    "symbol = \"SOLUSDT\"\n",
    "mean_prices.rename(\"mean_prices\").plot()\n",
    "(csvs[symbol].close / csvs[symbol].close.iloc[0]).rename(symbol).plot()\n",
    "plt.legend()"
   ]
  },
  {
   "cell_type": "code",
   "execution_count": 11,
   "metadata": {},
   "outputs": [
    {
     "ename": "KeyError",
     "evalue": "'BNBUSDT'",
     "output_type": "error",
     "traceback": [
      "\u001b[0;31m---------------------------------------------------------------------------\u001b[0m",
      "\u001b[0;31mKeyError\u001b[0m                                  Traceback (most recent call last)",
      "Input \u001b[0;32mIn [11]\u001b[0m, in \u001b[0;36m<cell line: 4>\u001b[0;34m()\u001b[0m\n\u001b[1;32m      2\u001b[0m symbol0 \u001b[38;5;241m=\u001b[39m \u001b[38;5;124m\"\u001b[39m\u001b[38;5;124mBNBUSDT\u001b[39m\u001b[38;5;124m\"\u001b[39m\n\u001b[1;32m      3\u001b[0m symbol1 \u001b[38;5;241m=\u001b[39m \u001b[38;5;124m\"\u001b[39m\u001b[38;5;124mLINKUSDT\u001b[39m\u001b[38;5;124m\"\u001b[39m\n\u001b[0;32m----> 4\u001b[0m (\u001b[43mcsvs\u001b[49m\u001b[43m[\u001b[49m\u001b[43msymbol0\u001b[49m\u001b[43m]\u001b[49m\u001b[38;5;241m.\u001b[39mclose \u001b[38;5;241m/\u001b[39m csvs[symbol0]\u001b[38;5;241m.\u001b[39mclose\u001b[38;5;241m.\u001b[39miloc[\u001b[38;5;241m0\u001b[39m])\u001b[38;5;241m.\u001b[39mrename(symbol0)\u001b[38;5;241m.\u001b[39mplot()\n\u001b[1;32m      5\u001b[0m (csvs[symbol1]\u001b[38;5;241m.\u001b[39mclose \u001b[38;5;241m/\u001b[39m csvs[symbol1]\u001b[38;5;241m.\u001b[39mclose\u001b[38;5;241m.\u001b[39miloc[\u001b[38;5;241m0\u001b[39m])\u001b[38;5;241m.\u001b[39mrename(symbol1)\u001b[38;5;241m.\u001b[39mplot()\n\u001b[1;32m      6\u001b[0m plt\u001b[38;5;241m.\u001b[39mlegend()\n",
      "\u001b[0;31mKeyError\u001b[0m: 'BNBUSDT'"
     ]
    }
   ],
   "source": [
    "# compare two symbols\n",
    "symbol0 = \"BNBUSDT\"\n",
    "symbol1 = \"LINKUSDT\"\n",
    "(csvs[symbol0].close / csvs[symbol0].close.iloc[0]).rename(symbol0).plot()\n",
    "(csvs[symbol1].close / csvs[symbol1].close.iloc[0]).rename(symbol1).plot()\n",
    "plt.legend()"
   ]
  },
  {
   "cell_type": "code",
   "execution_count": null,
   "metadata": {},
   "outputs": [],
   "source": []
  },
  {
   "cell_type": "code",
   "execution_count": null,
   "metadata": {},
   "outputs": [],
   "source": []
  },
  {
   "cell_type": "code",
   "execution_count": null,
   "metadata": {},
   "outputs": [],
   "source": []
  }
 ],
 "metadata": {
  "interpreter": {
   "hash": "02dec66463770c69f4669b9d7e671871f7abc255b68de7bad318e08abc8f2052"
  },
  "kernelspec": {
   "display_name": "Python 3 (ipykernel)",
   "language": "python",
   "name": "python3"
  },
  "language_info": {
   "codemirror_mode": {
    "name": "ipython",
    "version": 3
   },
   "file_extension": ".py",
   "mimetype": "text/x-python",
   "name": "python",
   "nbconvert_exporter": "python",
   "pygments_lexer": "ipython3",
   "version": "3.10.4"
  }
 },
 "nbformat": 4,
 "nbformat_minor": 4
}
